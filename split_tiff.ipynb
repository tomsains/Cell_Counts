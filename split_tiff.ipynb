{
 "cells": [
  {
   "cell_type": "code",
   "execution_count": 1,
   "metadata": {},
   "outputs": [],
   "source": [
    "import numpy as np\n",
    "from skimage.external.tifffile import imread, TiffFile \n",
    "import os\n",
    "import glob \n",
    "from skimage import io\n",
    "import matplotlib.pyplot as plt"
   ]
  },
  {
   "cell_type": "code",
   "execution_count": 2,
   "metadata": {},
   "outputs": [],
   "source": [
    "os.chdir(\"190308_count_cells/\")"
   ]
  },
  {
   "cell_type": "code",
   "execution_count": 3,
   "metadata": {},
   "outputs": [],
   "source": [
    "def tiff_split(tif_name, number_slices, fr_per_slice):\n",
    "    img = imread(tif_name)\n",
    "    os.mkdir(tif_name [:-4] + \"/\")\n",
    "    os.chdir(tif_name [:-4] +\"/\")\n",
    "    counter = 0\n",
    "    for i in range(number_slices-1):\n",
    "        os.mkdir(\"slice_\" + str(i))\n",
    "        plane = img [counter:counter+fr_per_slice, :, :]\n",
    "        io.imsave(arr=plane, fname=\"slice_\" + str(i) + \"/imslice_\" + str(i) +  \".tif\")\n",
    "        counter = counter + fr_per_slice\n",
    "    os.chdir(\"../\")"
   ]
  },
  {
   "cell_type": "code",
   "execution_count": 4,
   "metadata": {},
   "outputs": [],
   "source": [
    "def tiff_split_dir():\n",
    "    files = glob.glob('*.tif')\n",
    "    for files in files:\n",
    "        tiff_split(tif_name=files, number_slices=6, fr_per_slice=3000)"
   ]
  },
  {
   "cell_type": "code",
   "execution_count": 5,
   "metadata": {},
   "outputs": [
    {
     "name": "stderr",
     "output_type": "stream",
     "text": [
      "/home/thomas_sainsbury/anaconda3/lib/python3.6/site-packages/skimage/io/_io.py:132: UserWarning: slice_0/imslice_0.tif is a low contrast image\n",
      "  warn('%s is a low contrast image' % fname)\n",
      "/home/thomas_sainsbury/anaconda3/lib/python3.6/site-packages/skimage/io/_io.py:132: UserWarning: slice_1/imslice_1.tif is a low contrast image\n",
      "  warn('%s is a low contrast image' % fname)\n",
      "/home/thomas_sainsbury/anaconda3/lib/python3.6/site-packages/skimage/io/_io.py:132: UserWarning: slice_2/imslice_2.tif is a low contrast image\n",
      "  warn('%s is a low contrast image' % fname)\n",
      "/home/thomas_sainsbury/anaconda3/lib/python3.6/site-packages/skimage/io/_io.py:132: UserWarning: slice_3/imslice_3.tif is a low contrast image\n",
      "  warn('%s is a low contrast image' % fname)\n",
      "/home/thomas_sainsbury/anaconda3/lib/python3.6/site-packages/skimage/io/_io.py:132: UserWarning: slice_4/imslice_4.tif is a low contrast image\n",
      "  warn('%s is a low contrast image' % fname)\n"
     ]
    }
   ],
   "source": [
    "tiff_split_dir()"
   ]
  },
  {
   "cell_type": "code",
   "execution_count": null,
   "metadata": {},
   "outputs": [],
   "source": [
    "def mean_img_for_fish(folder):\n",
    "    slice_folder = next(os.walk(folder + '/.'))[1][::-1]\n",
    "    \n",
    "    for i, slice_folders in enumerate(slice_folders):\n",
    "        planes [i] = np.load(folder + \"/\" + slice_folders + \"/suite2p/ops1.npy\") [0][\"meanImg\"]\n",
    "        return(planes)"
   ]
  },
  {
   "cell_type": "code",
   "execution_count": 9,
   "metadata": {},
   "outputs": [
    {
     "ename": "FileNotFoundError",
     "evalue": "[Errno 2] No such file or directory: '190308_Enriched_F1_00001/suite2p/suite2p/ops1.npy'",
     "output_type": "error",
     "traceback": [
      "\u001b[0;31m---------------------------------------------------------------------------\u001b[0m",
      "\u001b[0;31mFileNotFoundError\u001b[0m                         Traceback (most recent call last)",
      "\u001b[0;32m<ipython-input-9-7312babd91b0>\u001b[0m in \u001b[0;36m<module>\u001b[0;34m()\u001b[0m\n\u001b[0;32m----> 1\u001b[0;31m \u001b[0mF1\u001b[0m \u001b[0;34m=\u001b[0m \u001b[0mmean_img_for_fish\u001b[0m\u001b[0;34m(\u001b[0m\u001b[0mfolder\u001b[0m \u001b[0;34m=\u001b[0m \u001b[0;34m\"190308_Enriched_F1_00001\"\u001b[0m\u001b[0;34m)\u001b[0m\u001b[0;34m\u001b[0m\u001b[0m\n\u001b[0m",
      "\u001b[0;32m<ipython-input-8-eec65ba95ded>\u001b[0m in \u001b[0;36mmean_img_for_fish\u001b[0;34m(folder)\u001b[0m\n\u001b[1;32m      4\u001b[0m \u001b[0;34m\u001b[0m\u001b[0m\n\u001b[1;32m      5\u001b[0m     \u001b[0;32mfor\u001b[0m \u001b[0mi\u001b[0m\u001b[0;34m,\u001b[0m \u001b[0mslice_folders\u001b[0m \u001b[0;32min\u001b[0m \u001b[0menumerate\u001b[0m\u001b[0;34m(\u001b[0m\u001b[0mslice_folders\u001b[0m\u001b[0;34m)\u001b[0m\u001b[0;34m:\u001b[0m\u001b[0;34m\u001b[0m\u001b[0m\n\u001b[0;32m----> 6\u001b[0;31m         \u001b[0mplanes\u001b[0m \u001b[0;34m[\u001b[0m\u001b[0mi\u001b[0m\u001b[0;34m]\u001b[0m \u001b[0;34m=\u001b[0m \u001b[0mnp\u001b[0m\u001b[0;34m.\u001b[0m\u001b[0mload\u001b[0m\u001b[0;34m(\u001b[0m\u001b[0mfolder\u001b[0m \u001b[0;34m+\u001b[0m \u001b[0;34m\"/\"\u001b[0m \u001b[0;34m+\u001b[0m \u001b[0mslice_folders\u001b[0m \u001b[0;34m+\u001b[0m \u001b[0;34m\"/suite2p/ops1.npy\"\u001b[0m\u001b[0;34m)\u001b[0m \u001b[0;34m[\u001b[0m\u001b[0;36m0\u001b[0m\u001b[0;34m]\u001b[0m\u001b[0;34m[\u001b[0m\u001b[0;34m\"meanImg\"\u001b[0m\u001b[0;34m]\u001b[0m\u001b[0;34m\u001b[0m\u001b[0m\n\u001b[0m\u001b[1;32m      7\u001b[0m \u001b[0;34m\u001b[0m\u001b[0m\n\u001b[1;32m      8\u001b[0m     \u001b[0;32mreturn\u001b[0m\u001b[0;34m(\u001b[0m\u001b[0mplanes\u001b[0m\u001b[0;34m)\u001b[0m\u001b[0;34m\u001b[0m\u001b[0m\n",
      "\u001b[0;32m~/anaconda3/lib/python3.6/site-packages/numpy/lib/npyio.py\u001b[0m in \u001b[0;36mload\u001b[0;34m(file, mmap_mode, allow_pickle, fix_imports, encoding)\u001b[0m\n\u001b[1;32m    370\u001b[0m     \u001b[0mown_fid\u001b[0m \u001b[0;34m=\u001b[0m \u001b[0;32mFalse\u001b[0m\u001b[0;34m\u001b[0m\u001b[0m\n\u001b[1;32m    371\u001b[0m     \u001b[0;32mif\u001b[0m \u001b[0misinstance\u001b[0m\u001b[0;34m(\u001b[0m\u001b[0mfile\u001b[0m\u001b[0;34m,\u001b[0m \u001b[0mbasestring\u001b[0m\u001b[0;34m)\u001b[0m\u001b[0;34m:\u001b[0m\u001b[0;34m\u001b[0m\u001b[0m\n\u001b[0;32m--> 372\u001b[0;31m         \u001b[0mfid\u001b[0m \u001b[0;34m=\u001b[0m \u001b[0mopen\u001b[0m\u001b[0;34m(\u001b[0m\u001b[0mfile\u001b[0m\u001b[0;34m,\u001b[0m \u001b[0;34m\"rb\"\u001b[0m\u001b[0;34m)\u001b[0m\u001b[0;34m\u001b[0m\u001b[0m\n\u001b[0m\u001b[1;32m    373\u001b[0m         \u001b[0mown_fid\u001b[0m \u001b[0;34m=\u001b[0m \u001b[0;32mTrue\u001b[0m\u001b[0;34m\u001b[0m\u001b[0m\n\u001b[1;32m    374\u001b[0m     \u001b[0;32melif\u001b[0m \u001b[0mis_pathlib_path\u001b[0m\u001b[0;34m(\u001b[0m\u001b[0mfile\u001b[0m\u001b[0;34m)\u001b[0m\u001b[0;34m:\u001b[0m\u001b[0;34m\u001b[0m\u001b[0m\n",
      "\u001b[0;31mFileNotFoundError\u001b[0m: [Errno 2] No such file or directory: '190308_Enriched_F1_00001/suite2p/suite2p/ops1.npy'"
     ]
    }
   ],
   "source": [
    "F1 = mean_img_for_fish(folder = \"190308_Enriched_F1_00001\")"
   ]
  },
  {
   "cell_type": "code",
   "execution_count": 10,
   "metadata": {},
   "outputs": [
    {
     "name": "stdout",
     "output_type": "stream",
     "text": [
      "\u001b[0m\u001b[34;42m190308_Enriched_F1_00001\u001b[0m/      \u001b[34;42m190308_Norm_F1_00003\u001b[0m/\n",
      "\u001b[01;32m190308_Enriched_F1_00001.tif\u001b[0m*  \u001b[01;32m190308_Norm_F1_00003.tif\u001b[0m*\n",
      "\u001b[34;42m190308_Enriched_F2_00001\u001b[0m/      \u001b[34;42m190308_Norm_F2_00002\u001b[0m/\n",
      "\u001b[01;32m190308_Enriched_F2_00001.tif\u001b[0m*  \u001b[01;32m190308_Norm_F2_00002.tif\u001b[0m*\n",
      "\u001b[34;42m190308_Enriched_F3_00002\u001b[0m/      \u001b[34;42m190308_Norm_F3_00002\u001b[0m/\n",
      "\u001b[01;32m190308_Enriched_F3_00002.tif\u001b[0m*  \u001b[01;32m190308_Norm_F3_00002.tif\u001b[0m*\n",
      "\u001b[34;42m190308_Enriched_F4_00002\u001b[0m/      \u001b[34;42m190308_Norm_F4_00001\u001b[0m/\n",
      "\u001b[01;32m190308_Enriched_F4_00002.tif\u001b[0m*  \u001b[01;32m190308_Norm_F4_00001.tif\u001b[0m*\n",
      "\u001b[34;42m190308_Enriched_F5_00001\u001b[0m/      \u001b[34;42m190308_Norm_F5_00001\u001b[0m/\n",
      "\u001b[01;32m190308_Enriched_F5_00001.tif\u001b[0m*  \u001b[01;32m190308_Norm_F5_00001.tif\u001b[0m*\n",
      "\u001b[34;42m190308_Enriched_F6_00005\u001b[0m/      \u001b[34;42m190308_Norm_F6_00001\u001b[0m/\n",
      "\u001b[01;32m190308_Enriched_F6_00005.tif\u001b[0m*  \u001b[01;32m190308_Norm_F6_00001.tif\u001b[0m*\n",
      "\u001b[34;42m190308_Enriched_F7_00002\u001b[0m/      \u001b[34;42m190308_Norm_F7_00002\u001b[0m/\n",
      "\u001b[01;32m190308_Enriched_F7_00002.tif\u001b[0m*  \u001b[01;32m190308_Norm_F7_00002.tif\u001b[0m*\n",
      "\u001b[34;42m190308_Enriched_F8_00002\u001b[0m/      \u001b[34;42m190308_Norm_F8_00004\u001b[0m/\n",
      "\u001b[01;32m190308_Enriched_F8_00002.tif\u001b[0m*  \u001b[01;32m190308_Norm_F8_00004.tif\u001b[0m*\n"
     ]
    }
   ],
   "source": [
    "ls"
   ]
  },
  {
   "cell_type": "code",
   "execution_count": null,
   "metadata": {},
   "outputs": [],
   "source": [
    "def plot_all_planes(Fish):\n",
    "    plt.figure(1, figsize= (15,10))\n",
    "    for i in range(len(Fish)):\n",
    "        plt.subplot(int(str(23) + str(i +1)))\n",
    "        plt.imshow(Fish [i])\n",
    "    "
   ]
  },
  {
   "cell_type": "code",
   "execution_count": null,
   "metadata": {},
   "outputs": [],
   "source": [
    "plt.figure(figsize = (15,15))\n",
    "plt.imshow(F1 [0])"
   ]
  },
  {
   "cell_type": "code",
   "execution_count": null,
   "metadata": {},
   "outputs": [],
   "source": [
    "plot_all_planes(F1)"
   ]
  },
  {
   "cell_type": "code",
   "execution_count": 11,
   "metadata": {},
   "outputs": [],
   "source": [
    "slice_folder = next(os.walk('.'))[1]"
   ]
  },
  {
   "cell_type": "code",
   "execution_count": 15,
   "metadata": {},
   "outputs": [],
   "source": [
    "slice_folder = next(os.walk(folder + '/.'))[1]"
   ]
  },
  {
   "cell_type": "code",
   "execution_count": 14,
   "metadata": {},
   "outputs": [],
   "source": [
    "folder = \"190308_Enriched_F1_00001\""
   ]
  },
  {
   "cell_type": "code",
   "execution_count": 17,
   "metadata": {},
   "outputs": [
    {
     "data": {
      "text/plain": [
       "['slice_0', 'slice_1', 'slice_2', 'slice_3', 'slice_4']"
      ]
     },
     "execution_count": 17,
     "metadata": {},
     "output_type": "execute_result"
    }
   ],
   "source": [
    "slice_folder [::-1]"
   ]
  },
  {
   "cell_type": "code",
   "execution_count": null,
   "metadata": {},
   "outputs": [],
   "source": []
  }
 ],
 "metadata": {
  "kernelspec": {
   "display_name": "Python 3",
   "language": "python",
   "name": "python3"
  },
  "language_info": {
   "codemirror_mode": {
    "name": "ipython",
    "version": 3
   },
   "file_extension": ".py",
   "mimetype": "text/x-python",
   "name": "python",
   "nbconvert_exporter": "python",
   "pygments_lexer": "ipython3",
   "version": "3.6.5"
  }
 },
 "nbformat": 4,
 "nbformat_minor": 2
}
